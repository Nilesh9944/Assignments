{
  "nbformat": 4,
  "nbformat_minor": 0,
  "metadata": {
    "colab": {
      "provenance": []
    },
    "kernelspec": {
      "name": "python3",
      "display_name": "Python 3"
    },
    "language_info": {
      "name": "python"
    }
  },
  "cells": [
    {
      "cell_type": "code",
      "execution_count": null,
      "metadata": {
        "id": "wyRRsbKHbLuv"
      },
      "outputs": [],
      "source": [
        "###############################           Basics of Python           #########################################\n"
      ]
    },
    {
      "cell_type": "code",
      "source": [
        "#Exercise 1: Prime Numbers\n",
        "#Write a Python program that checks whether a given number is prime or not.\n",
        "# A prime number is a natural number greater than 1 that has no positive divisors other than 1 and itself.\n"
      ],
      "metadata": {
        "id": "EVxz9dtQtY7X"
      },
      "execution_count": null,
      "outputs": []
    },
    {
      "cell_type": "code",
      "source": [
        "num=int(input(\"Enter the number :\"))\n",
        "if num<=1:\n",
        "  print(\"The given number is not a prime number\")\n",
        "elif(num<=3):\n",
        "  print(f\"The given number {num} is prime number\")\n",
        "elif (num % 2==0  ):\n",
        "  print(f\"The number entered {num} is not prime number\")\n",
        "elif(num % 3==0):\n",
        "  print(f\"The number entered {num} is not prime number\")\n",
        "\n",
        "\n",
        "elif(num>3):\n",
        "  i=5\n",
        "  while (i*i<=num):\n",
        "      if (num % i==0 or num % (i+2)==0):\n",
        "        print(f\"The number {num} is not prime\")\n",
        "        break\n",
        "      i+=6\n",
        "  else:\n",
        "        print(f\"The given number {num} is prime number\")\n",
        "\n",
        "\n",
        "\n",
        "\n",
        "\n",
        "\n"
      ],
      "metadata": {
        "colab": {
          "base_uri": "https://localhost:8080/"
        },
        "id": "kpPwlY5GtmM1",
        "outputId": "f7502bdb-65c6-4b91-da3d-f15400cc1fb8"
      },
      "execution_count": 56,
      "outputs": [
        {
          "output_type": "stream",
          "name": "stdout",
          "text": [
            "Enter the number :19\n",
            "The given number 19 is prime number\n"
          ]
        }
      ]
    },
    {
      "cell_type": "code",
      "source": [
        "import sympy as sm\n",
        "sm.isprime(571)"
      ],
      "metadata": {
        "colab": {
          "base_uri": "https://localhost:8080/"
        },
        "id": "3_jRHxHN1dqP",
        "outputId": "0c4878df-0747-4d8d-f837-4531e41b445b"
      },
      "execution_count": 54,
      "outputs": [
        {
          "output_type": "execute_result",
          "data": {
            "text/plain": [
              "True"
            ]
          },
          "metadata": {},
          "execution_count": 54
        }
      ]
    },
    {
      "cell_type": "code",
      "source": [
        "#Exercise 2: Product of Random Numbers\n",
        "#Develop a Python program that generates two random numbers and asks the user to enter the product of these numbers.\n",
        "#The program should then check if the user's answer is correct and display an appropriate message."
      ],
      "metadata": {
        "id": "7cXpaSpkklZx"
      },
      "execution_count": null,
      "outputs": []
    },
    {
      "cell_type": "code",
      "source": [
        "import random\n",
        "num1=random.randint(0,100)\n",
        "num2=random.randint(0,100)\n",
        "\n",
        "user_product=int(input(f\"What is the product of {num1} and {num2}?\"))\n",
        "if user_product==num1*num2:\n",
        "  print(\"The answer is correct!!!\")\n",
        "else:\n",
        "  print(\"The answr is wrong....prepare well  !!!\")\n",
        "  print(f\"The answer is {num1*num2}\")\n"
      ],
      "metadata": {
        "colab": {
          "base_uri": "https://localhost:8080/"
        },
        "id": "WuCyVA5aluNG",
        "outputId": "bd327f2c-ced2-46bb-8556-65461f66dc8b"
      },
      "execution_count": 26,
      "outputs": [
        {
          "output_type": "stream",
          "name": "stdout",
          "text": [
            "What is the product of 64 and 4?256\n",
            "The answer is correct!!!\n"
          ]
        }
      ]
    },
    {
      "cell_type": "code",
      "source": [
        "#Exercise 3: Squares of Even/Odd Numbers\n",
        "#Create a Python script that prints the squares of all even or odd numbers within the range of 100 to 200.\n",
        "#Choose either even or odd numbers and document your choice in the code."
      ],
      "metadata": {
        "id": "I1wSeuKIneaw"
      },
      "execution_count": null,
      "outputs": []
    },
    {
      "cell_type": "code",
      "source": [
        "even_sqare=[]\n",
        "odd_square=[]\n",
        "for i in range(100,201):\n",
        " if(i%2==0):\n",
        "  even_sqare.append(i*i)\n",
        " else:\n",
        "  odd_square.append(i*i)\n",
        "print(f\"The even numbers square list is :{even_sqare}\")\n",
        "print(f\"The odd numbers square list is :{odd_square}\")\n"
      ],
      "metadata": {
        "colab": {
          "base_uri": "https://localhost:8080/"
        },
        "id": "2Ssgk2MBo66t",
        "outputId": "6c0b8142-d03a-487d-ab3e-7d663e0d8b64"
      },
      "execution_count": 25,
      "outputs": [
        {
          "output_type": "stream",
          "name": "stdout",
          "text": [
            "The even numbers square list is :[10000, 10404, 10816, 11236, 11664, 12100, 12544, 12996, 13456, 13924, 14400, 14884, 15376, 15876, 16384, 16900, 17424, 17956, 18496, 19044, 19600, 20164, 20736, 21316, 21904, 22500, 23104, 23716, 24336, 24964, 25600, 26244, 26896, 27556, 28224, 28900, 29584, 30276, 30976, 31684, 32400, 33124, 33856, 34596, 35344, 36100, 36864, 37636, 38416, 39204, 40000]\n",
            "The odd numbers square list is :[10201, 10609, 11025, 11449, 11881, 12321, 12769, 13225, 13689, 14161, 14641, 15129, 15625, 16129, 16641, 17161, 17689, 18225, 18769, 19321, 19881, 20449, 21025, 21609, 22201, 22801, 23409, 24025, 24649, 25281, 25921, 26569, 27225, 27889, 28561, 29241, 29929, 30625, 31329, 32041, 32761, 33489, 34225, 34969, 35721, 36481, 37249, 38025, 38809, 39601]\n"
          ]
        }
      ]
    },
    {
      "cell_type": "code",
      "source": [
        "#Exercise 4: Word counter\n",
        "#write a program to count the number of words in a given text.\n",
        "#example:\n",
        "#input_text = \"This is a sample text. This text will be used to demonstrate the word counter.\"\n",
        "#Expected output:\n",
        "#'This': 2\n",
        "#'is': 1\n",
        "#'a': 1\n",
        "#'sample': 1\n",
        "#'text.': 1\n"
      ],
      "metadata": {
        "id": "cjduWUNW3jh7"
      },
      "execution_count": null,
      "outputs": []
    },
    {
      "cell_type": "code",
      "source": [
        "input_text = \"This is a sample text. This text will be used to demonstrate the word counter.\"\n",
        "words=input_text.split()\n",
        "counts=dict()\n",
        "for word in words:\n",
        "  if word in counts:\n",
        "    counts[word]+=1\n",
        "  else:\n",
        "    counts[word]=1\n",
        "print(counts)\n",
        "\n",
        ""
      ],
      "metadata": {
        "colab": {
          "base_uri": "https://localhost:8080/"
        },
        "id": "Um0O4olk40V4",
        "outputId": "01991139-673a-4202-8547-70769706b704"
      },
      "execution_count": 76,
      "outputs": [
        {
          "output_type": "stream",
          "name": "stdout",
          "text": [
            "{'This': 2, 'is': 1, 'a': 1, 'sample': 1, 'text.': 1, 'text': 1, 'will': 1, 'be': 1, 'used': 1, 'to': 1, 'demonstrate': 1, 'the': 1, 'word': 1, 'counter.': 1}\n"
          ]
        }
      ]
    },
    {
      "cell_type": "code",
      "source": [
        "words.count(\"This\")"
      ],
      "metadata": {
        "colab": {
          "base_uri": "https://localhost:8080/"
        },
        "id": "7YU61EDd587I",
        "outputId": "5b5641b7-c210-441a-ac56-3c50bb1de57a"
      },
      "execution_count": 59,
      "outputs": [
        {
          "output_type": "execute_result",
          "data": {
            "text/plain": [
              "2"
            ]
          },
          "metadata": {},
          "execution_count": 59
        }
      ]
    },
    {
      "cell_type": "code",
      "source": [
        "#Exercise 5: Check for Palindrome\n",
        "#Write a Python function called is_palindrome that takes a string as input and returns True if the string is a palindrome, and False otherwise. A palindrome is a word, phrase, number, or other sequence of characters that reads the same forward and backward, ignoring spaces, punctuation, and capitalization.\n",
        "#Example:\n",
        "#Input: \"racecar\"\n",
        "#Expected Output: True\n"
      ],
      "metadata": {
        "id": "iFTGsSs4Cp6k"
      },
      "execution_count": null,
      "outputs": []
    },
    {
      "cell_type": "code",
      "source": [
        "string_s= input(\"Enter the string :\")\n",
        "def is_palindrome(s):\n",
        "  return s==s[::-1]\n",
        "s=string_s\n",
        "if (is_palindrome(s)  ):\n",
        "  print(\"The given string is palindrome\")\n",
        "else:\n",
        "  print(\"The given string is not palindrome\")\n",
        "\n"
      ],
      "metadata": {
        "colab": {
          "base_uri": "https://localhost:8080/"
        },
        "id": "NWMWEHE9C1_2",
        "outputId": "f28310dc-1acc-4ca2-9823-36d48ccb7765"
      },
      "execution_count": 82,
      "outputs": [
        {
          "output_type": "stream",
          "name": "stdout",
          "text": [
            "Enter the string :nilesh\n",
            "The given string is not palindrome\n"
          ]
        }
      ]
    }
  ]
}